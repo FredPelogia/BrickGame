{
  "nbformat": 4,
  "nbformat_minor": 0,
  "metadata": {
    "colab": {
      "name": "RedesNeurais_04.ipynb",
      "version": "0.3.2",
      "provenance": [],
      "collapsed_sections": [],
      "include_colab_link": true
    },
    "kernelspec": {
      "name": "python3",
      "display_name": "Python 3"
    }
  },
  "cells": [
    {
      "cell_type": "markdown",
      "metadata": {
        "id": "view-in-github",
        "colab_type": "text"
      },
      "source": [
        "<a href=\"https://colab.research.google.com/github/fpelogia/BrickGame/blob/master/RedesNeurais_04.ipynb\" target=\"_parent\"><img src=\"https://colab.research.google.com/assets/colab-badge.svg\" alt=\"Open In Colab\"/></a>"
      ]
    },
    {
      "cell_type": "markdown",
      "metadata": {
        "id": "fcq3bFEDKYaP",
        "colab_type": "text"
      },
      "source": [
        "#Redes Neurais\n",
        "[Voltar](https://colab.research.google.com/drive/1zGxVatpjlZtdtECAikT1eKP7EQ50m-Ur)"
      ]
    },
    {
      "cell_type": "markdown",
      "metadata": {
        "id": "njaM49LrKck0",
        "colab_type": "text"
      },
      "source": [
        "#4 - Função de ativação $\\frac{x + \\sqrt{x^2 +0.0001} }{2}$\n",
        "\n",
        "$$f'(x) = \\frac{1}{2} (\\frac{x}{\\sqrt{x^2 + 0.0001}} + 1)$$"
      ]
    },
    {
      "cell_type": "code",
      "metadata": {
        "id": "GA_haPccKask",
        "colab_type": "code",
        "colab": {}
      },
      "source": [
        "import numpy as np\n",
        "import matplotlib.pyplot as plt\n",
        "%matplotlib inline\n",
        "\n",
        "epsilon = 0.0001\n",
        "\n",
        "def act_func(x):\n",
        "    return x\n",
        "\n",
        "def reLu(x):\n",
        "    return 0.5*(x + np.sqrt(x**2 + epsilon))\n",
        " \n",
        "class RedeNeural():\n",
        "    def __init__(self, n_inputs,n_hidden,n_outputs,learning_rate = 0.1):\n",
        "        self.n_inputs = n_inputs\n",
        "        self.n_hidden = n_hidden\n",
        "        self.n_outputs = n_outputs\n",
        "        \n",
        "        self.weight_ih = np.random.normal(0.0, pow(self.n_inputs, -0.5),\n",
        "(self.n_hidden, self.n_inputs))\n",
        "        self.weight_ih = np.transpose(self.weight_ih)\n",
        "        \n",
        "        self.weight_ho = np.random.normal(0.0, pow(self.n_hidden, -0.5),\n",
        "(self.n_outputs, self.n_hidden))\n",
        "        self.weight_ho = np.transpose(self.weight_ho)\n",
        "        \n",
        "        self.learning_rate = learning_rate\n",
        "\n",
        "    def train_step(self, input,target):\n",
        "        \n",
        "        #  INPUT ====> HIDDEN\n",
        "        \n",
        "        hidden = np.dot(input, self.weight_ih)\n",
        "        for i in range(self.n_hidden):\n",
        "            hidden[0][i] = reLu(hidden[0][i])\n",
        "    \n",
        "        #  HIDDEN ====> OUTPUT\n",
        "\n",
        "        output = np.dot(hidden,self.weight_ho)\n",
        "        for i in range(len(output)):\n",
        "            output[i] = reLu(output[i])\n",
        "        \n",
        "        \n",
        "        \n",
        "        \n",
        "        #BACKPROPAGATION\n",
        "        \n",
        "        ## OUTPUT ==> HIDDEN \n",
        "        \n",
        "        output_error = target - output\n",
        "        d_output = 0.5*(output/np.sqrt(output**2 + epsilon) + 1)\n",
        "        gradient = self.learning_rate*output_error*d_output\n",
        "        \n",
        "        weight_ho_deltas = np.dot(np.transpose(hidden),gradient)\n",
        "        self.weight_ho = np.add(self.weight_ho,weight_ho_deltas)\n",
        "        \n",
        "        ## HIDDEN ==> INPUT\n",
        "        hidden_error = np.dot(output_error,np.transpose(self.weight_ho))\n",
        "        d_hidden = 0.5*(hidden/np.sqrt(hidden**2 + epsilon) + 1)\n",
        "        gradient_H = self.learning_rate*hidden_error*d_hidden\n",
        "        \n",
        "        weight_ih_deltas = np.dot(np.transpose(input),gradient_H)\n",
        "        self.weight_ih = np.add(self.weight_ih,weight_ih_deltas)\n",
        "\n",
        "        \n",
        "\n",
        "    def predict(self,input):\n",
        "\n",
        "        hidden = np.dot(input, self.weight_ih)\n",
        "        for i in range(len(hidden)):\n",
        "            hidden[i] = reLu(hidden[i])\n",
        "     \n",
        "        #  HIDDEN ====> OUTPUT\n",
        "\n",
        "        output = np.dot(hidden,self.weight_ho)\n",
        "        for i in range(len(output)):\n",
        "            output[i] = reLu(output[i])\n",
        "\n",
        "        return output[0]\n",
        "    \n",
        "    \n",
        "    def train(self, trainning_set, labels, epochs=1000):\n",
        "        \n",
        "        inputs = np.array(trainning_set)\n",
        "        \n",
        "        \n",
        "        for _ in range(epochs):\n",
        "            index  = np.random.randint(len(trainning_set))\n",
        "            self.train_step(inputs[index],labels[index])\n",
        "\n",
        "\n"
      ],
      "execution_count": 0,
      "outputs": []
    },
    {
      "cell_type": "code",
      "metadata": {
        "id": "tVSNSWp1Kawb",
        "colab_type": "code",
        "outputId": "ebaceb9a-bc49-4230-b09a-1f7f87da3fe6",
        "colab": {
          "base_uri": "https://localhost:8080/",
          "height": 303
        }
      },
      "source": [
        "import matplotlib.pyplot as plt\n",
        "%matplotlib inline\n",
        "\n",
        "mynn = RedeNeural(1,2,1,0.00005);\n",
        "X = [1,2,3,4,5]\n",
        "y = [1,4,9,16,25]\n",
        "\n",
        "mynn.train(X,y,10000)\n",
        "\n",
        "\n",
        "a = mynn.weight_ih[0]\n",
        "b = mynn.weight_ho\n",
        "\n",
        "m = a[0]*b[0] + a[1]*b[1]\n",
        "print(m)\n",
        "\n",
        "ex = np.linspace(0,6,10)\n",
        "ey = m*ex\n",
        "\n",
        "plt.axis([0,6,0,30])\n",
        "plt.scatter(X,y,s = 30, c = \"red\")\n",
        "plt.plot(ex,ey)\n"
      ],
      "execution_count": 0,
      "outputs": [
        {
          "output_type": "stream",
          "text": [
            "[4.71803896]\n"
          ],
          "name": "stdout"
        },
        {
          "output_type": "execute_result",
          "data": {
            "text/plain": [
              "[<matplotlib.lines.Line2D at 0x7f3a9b4ccdd8>]"
            ]
          },
          "metadata": {
            "tags": []
          },
          "execution_count": 8
        },
        {
          "output_type": "display_data",
          "data": {
            "image/png": "[encoded data removed]",
            "text/plain": [
              "<Figure size 432x288 with 1 Axes>"
            ]
          },
          "metadata": {
            "tags": []
          }
        }
      ]
    }
  ]
}